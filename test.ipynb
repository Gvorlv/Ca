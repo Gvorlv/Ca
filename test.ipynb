{
 "cells": [
  {
   "cell_type": "markdown",
   "metadata": {},
   "source": [
    "## Пример использования простого API"
   ]
  },
  {
   "cell_type": "code",
   "execution_count": 3,
   "metadata": {},
   "outputs": [
    {
     "name": "stdout",
     "output_type": "stream",
     "text": [
      "{\"Hello\":\"World\"}\n"
     ]
    }
   ],
   "source": [
    "import requests\n",
    "\n",
    "# запросы в fastapi_example\n",
    "response = requests.get(\"http://127.0.0.1:8000/\")\n",
    "print(response.text)"
   ]
  },
  {
   "cell_type": "code",
   "execution_count": null,
   "metadata": {},
   "outputs": [],
   "source": [
    "# запросы в fastapi_example\n",
    "response = requests.get(\"http://127.0.0.1:8000/about\")\n",
    "print(response.text)"
   ]
  },
  {
   "cell_type": "code",
   "execution_count": null,
   "metadata": {},
   "outputs": [],
   "source": [
    "# запросы в fastapi_example\n",
    "response = requests.get(\"http://127.0.0.1:8000/users/85\")\n",
    "print(response.text)"
   ]
  },
  {
   "cell_type": "code",
   "execution_count": 9,
   "metadata": {},
   "outputs": [
    {
     "name": "stdout",
     "output_type": "stream",
     "text": [
      "{\"summa\":8}\n"
     ]
    }
   ],
   "source": [
    "# запрос сумма\n",
    "numbers={\"num\":3, \"num2\":5}\n",
    "response = requests.post(\"http://127.0.0.1:8000/add\", json=numbers)\n",
    "print(response.text)"
   ]
  },
  {
   "cell_type": "code",
   "execution_count": 10,
   "metadata": {},
   "outputs": [
    {
     "name": "stdout",
     "output_type": "stream",
     "text": [
      "{\"subtract\":-2}\n"
     ]
    }
   ],
   "source": [
    "# запрос разность\n",
    "numbers={\"num\":3, \"num2\":5}\n",
    "response = requests.post(\"http://127.0.0.1:8000/subtract\", json=numbers)\n",
    "print(response.text)"
   ]
  },
  {
   "cell_type": "code",
   "execution_count": 11,
   "metadata": {},
   "outputs": [
    {
     "name": "stdout",
     "output_type": "stream",
     "text": [
      "{\"multiply\":15}\n"
     ]
    }
   ],
   "source": [
    "# запрос умножение\n",
    "numbers={\"num\":3, \"num2\":5}\n",
    "response = requests.post(\"http://127.0.0.1:8000/multiply\", json=numbers)\n",
    "print(response.text)"
   ]
  },
  {
   "cell_type": "code",
   "execution_count": 13,
   "metadata": {},
   "outputs": [
    {
     "name": "stdout",
     "output_type": "stream",
     "text": [
      "{\"divide\":2.0}\n"
     ]
    }
   ],
   "source": [
    "# запрос деление\n",
    "numbers={\"num\":10, \"num2\":5}\n",
    "response = requests.post(\"http://127.0.0.1:8000/divide\", json=numbers)\n",
    "print(response.text)"
   ]
  }
 ],
 "metadata": {
  "kernelspec": {
   "display_name": "base",
   "language": "python",
   "name": "python3"
  },
  "language_info": {
   "codemirror_mode": {
    "name": "ipython",
    "version": 3
   },
   "file_extension": ".py",
   "mimetype": "text/x-python",
   "name": "python",
   "nbconvert_exporter": "python",
   "pygments_lexer": "ipython3",
   "version": "3.11.3"
  }
 },
 "nbformat": 4,
 "nbformat_minor": 2
}
